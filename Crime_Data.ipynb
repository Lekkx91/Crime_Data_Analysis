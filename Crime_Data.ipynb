{
 "cells": [
  {
   "cell_type": "markdown",
   "metadata": {},
   "source": [
    "<h2><center>A Critical Assessment of the Big Data Approach to Crime Analysis</center></h1>"
   ]
  },
  {
   "cell_type": "markdown",
   "metadata": {},
   "source": [
    "<h3>1. Introduction</h3>"
   ]
  },
  {
   "cell_type": "markdown",
   "metadata": {},
   "source": [
    "<p style=\"text-align:justify\">In a television documentary \"Ross Kemp and the Armed Police\" broadcast on the 6th of September 2018 by ITV, multiple claims were made regarding violent crime in the UK.\n",
    "\n",
    "These claims were:\n",
    "1. Violent Crime is increasing.\n",
    "2. There are more firearms incidents per head in Birmingham than anywhere else in the UK.\n",
    "3. Crimes involving firearms are closely associated with drugs offences.\n",
    "\n",
    "The aim of this report is to investigate these claims. This report will apply a combination of Python, Apache Spark and Pandas to process, filter and display the data in a format which allows for the visualization of trends easily. PySpark will be used to filter the data to obtain and display the necessary data, while PySpark SQL will be used to create joins and finally the Pandas library will be used to transformations.</p>"
   ]
  },
  {
   "cell_type": "markdown",
   "metadata": {},
   "source": [
    "<h3>2. Approach</h3>"
   ]
  },
  {
   "cell_type": "markdown",
   "metadata": {},
   "source": [
    "<h4>2.1 Pre-requisites</h4>\n",
    "\n",
    "The first step is to load all the necessary packages and pyspark, the visualization and machine learning functionalities."
   ]
  },
  {
   "cell_type": "code",
   "execution_count": 1,
   "metadata": {},
   "outputs": [],
   "source": [
    "#import packages that allow pyspark functionality\n",
    "import pyspark\n",
    "from pyspark import SparkContext, SparkConf"
   ]
  },
  {
   "cell_type": "code",
   "execution_count": 2,
   "metadata": {},
   "outputs": [],
   "source": [
    "#This package is required for machine learning correlation such as Pearson an Spearman Correlation\n",
    "import numpy as np\n",
    "from pyspark.mllib.stat import Statistics"
   ]
  },
  {
   "cell_type": "code",
   "execution_count": 3,
   "metadata": {},
   "outputs": [],
   "source": [
    "#This package is required to create useful visualization methods such as time series charts\n",
    "import matplotlib.pyplot as plt\n",
    "from matplotlib import pyplot"
   ]
  },
  {
   "cell_type": "markdown",
   "metadata": {},
   "source": [
    "We need to create measures for error handling in order to ensure there are no multiple spark contexts running as this will create an error."
   ]
  },
  {
   "cell_type": "code",
   "execution_count": 4,
   "metadata": {},
   "outputs": [],
   "source": [
    "#If this code is rerun, it will lead to an error. Therefore, we apply a try and except message to prevent this.\n",
    "try:\n",
    "    conf=SparkConf().setMaster(\"local\").setAppName(\"Crime Data Analysis\")\n",
    "    sc = SparkContext(conf=conf)\n",
    "except:\n",
    "    print(\"The Spark context already exists\")"
   ]
  },
  {
   "cell_type": "code",
   "execution_count": 5,
   "metadata": {},
   "outputs": [],
   "source": [
    "#import the SQL package for adding and renaming columns to tables as well as table joins\n",
    "from pyspark.sql import SQLContext\n",
    "sqlCtx = SQLContext(sc)"
   ]
  },
  {
   "cell_type": "code",
   "execution_count": 6,
   "metadata": {},
   "outputs": [],
   "source": [
    "#This ensures that any figures are created and saved in the notebook and not in a new window\n",
    "%matplotlib inline"
   ]
  },
  {
   "cell_type": "code",
   "execution_count": 7,
   "metadata": {},
   "outputs": [],
   "source": [
    "#import spark session to alter and add a schema to the tables\n",
    "from pyspark.sql import SparkSession\n",
    "\n",
    "spark = SparkSession\\\n",
    ".builder\\\n",
    ".appName(\"Crime Data Analysis\")\\\n",
    ".config(\"spark.some.config.option\", \"some-value\")\\\n",
    ".getOrCreate()"
   ]
  },
  {
   "cell_type": "code",
   "execution_count": 8,
   "metadata": {},
   "outputs": [
    {
     "data": {
      "text/html": [
       "\n",
       "        <div>\n",
       "            <p><b>SparkContext</b></p>\n",
       "\n",
       "            <p><a href=\"http://8129b70a4e70:4040\">Spark UI</a></p>\n",
       "\n",
       "            <dl>\n",
       "              <dt>Version</dt>\n",
       "                <dd><code>v3.0.1</code></dd>\n",
       "              <dt>Master</dt>\n",
       "                <dd><code>local</code></dd>\n",
       "              <dt>AppName</dt>\n",
       "                <dd><code>Crime Data Analysis</code></dd>\n",
       "            </dl>\n",
       "        </div>\n",
       "        "
      ],
      "text/plain": [
       "<SparkContext master=local appName=Crime Data Analysis>"
      ]
     },
     "execution_count": 8,
     "metadata": {},
     "output_type": "execute_result"
    }
   ],
   "source": [
    "sc"
   ]
  },
  {
   "cell_type": "code",
   "execution_count": 9,
   "metadata": {},
   "outputs": [],
   "source": [
    "#sql functions to add new columns to the tables\n",
    "import pyspark.sql.functions as f"
   ]
  },
  {
   "cell_type": "code",
   "execution_count": 10,
   "metadata": {},
   "outputs": [],
   "source": [
    "#pandas package to convert the dataframe to pandas and display the results in a more suitable format\n",
    "import pandas as pd"
   ]
  },
  {
   "cell_type": "markdown",
   "metadata": {},
   "source": [
    "<h3>2.2 Reading in the first dataset - Check that it has a header or not</h3>\n",
    "<h4>2.2.1 Reading the data into an RDD</h4>"
   ]
  },
  {
   "cell_type": "markdown",
   "metadata": {},
   "source": [
    "The data set which contains millions of rows of crime data in the UK is read into a variable."
   ]
  },
  {
   "cell_type": "code",
   "execution_count": 11,
   "metadata": {},
   "outputs": [],
   "source": [
    "lines = sc.textFile('../ass2/all_crimes18_hdr.txt.gz')"
   ]
  },
  {
   "cell_type": "markdown",
   "metadata": {},
   "source": [
    "Next, we must ensure that the data has been properly and successfully read in. This step is also important because it allows us the chance to view the table header so we can find the fields and column names of any appropriate data."
   ]
  },
  {
   "cell_type": "code",
   "execution_count": 12,
   "metadata": {},
   "outputs": [
    {
     "data": {
      "text/plain": [
       "['Crime ID,Month,Reported by,Falls within,Longitude,Latitude,Location,LSOA code,LSOA name,Crime type,Last outcome category,Context',\n",
       " ',2010-12,Avon and Somerset Constabulary,Avon and Somerset Constabulary,-0.805600,51.819143,On or near Norfolk Terrace,E01017662,Aylesbury Vale 015C,Other crime,,',\n",
       " ',2010-12,Avon and Somerset Constabulary,Avon and Somerset Constabulary,-2.494366,51.418169,On or near Keynsham Road,E01014399,Bath and North East Somerset 001A,Anti-social behaviour,,',\n",
       " ',2010-12,Avon and Somerset Constabulary,Avon and Somerset Constabulary,-2.511927,51.409435,On or near Harlech Close,E01014399,Bath and North East Somerset 001A,Anti-social behaviour,,',\n",
       " ',2010-12,Avon and Somerset Constabulary,Avon and Somerset Constabulary,-2.511571,51.414895,On or near Orchard Close,E01014399,Bath and North East Somerset 001A,Anti-social behaviour,,']"
      ]
     },
     "execution_count": 12,
     "metadata": {},
     "output_type": "execute_result"
    }
   ],
   "source": [
    "#The first five lines will be displayed using this code\n",
    "lines.take(5)"
   ]
  },
  {
   "cell_type": "code",
   "execution_count": 13,
   "metadata": {},
   "outputs": [
    {
     "data": {
      "text/plain": [
       "46986837"
      ]
     },
     "execution_count": 13,
     "metadata": {},
     "output_type": "execute_result"
    }
   ],
   "source": [
    "#We will count the lines, using the code below, to make sure all the data has been read in\n",
    "lines.count()"
   ]
  },
  {
   "cell_type": "markdown",
   "metadata": {},
   "source": [
    "We can now observe that the data has been read in successfully.\n",
    "\n",
    "The RDD is now filtered randomly to produce a more manageable amount of data for testing purposes."
   ]
  },
  {
   "cell_type": "code",
   "execution_count": 13,
   "metadata": {},
   "outputs": [],
   "source": [
    "#Randomly filtered lines\n",
    "#(lines, linesNotNeeded) = lines.randomSplit([0.01, 0.99])"
   ]
  },
  {
   "cell_type": "markdown",
   "metadata": {},
   "source": [
    "<h4>2.2.2 Splitting the lines into columns</h4>"
   ]
  },
  {
   "cell_type": "markdown",
   "metadata": {},
   "source": [
    "The data will now be split into appropriate and usable data fields for filtering and grouping. We will also use this opportunity to filter out the data which is not required or useful for this analysis and leave only the useful data."
   ]
  },
  {
   "cell_type": "code",
   "execution_count": 14,
   "metadata": {},
   "outputs": [],
   "source": [
    "#function splits the lines into columns and gives an attribute name to each of the columns\n",
    "def parseline(lines):\n",
    "    fields = lines.split(',')\n",
    "    Month = fields[1]\n",
    "    LSOACode = fields[7]\n",
    "    CrimeType = fields[9]\n",
    "    Outcome = fields[10]\n",
    "    return (Month, LSOACode, CrimeType, Outcome)"
   ]
  },
  {
   "cell_type": "markdown",
   "metadata": {},
   "source": [
    "As the first line of the newly created RDD is the header, we must remove it as it is not useful and will lead to problems when filterng and grouping."
   ]
  },
  {
   "cell_type": "code",
   "execution_count": 15,
   "metadata": {},
   "outputs": [],
   "source": [
    "#the first row is a header, so it is located\n",
    "header = lines.first()\n",
    "#and then it is filtered out, leaving just the usable data behind.\n",
    "justdata = lines.filter(lambda row: row != header)"
   ]
  },
  {
   "cell_type": "markdown",
   "metadata": {},
   "source": [
    "Verification that the header has been rmoved is required."
   ]
  },
  {
   "cell_type": "code",
   "execution_count": 16,
   "metadata": {},
   "outputs": [
    {
     "data": {
      "text/plain": [
       "[',2010-12,Avon and Somerset Constabulary,Avon and Somerset Constabulary,-0.805600,51.819143,On or near Norfolk Terrace,E01017662,Aylesbury Vale 015C,Other crime,,',\n",
       " ',2010-12,Avon and Somerset Constabulary,Avon and Somerset Constabulary,-2.494366,51.418169,On or near Keynsham Road,E01014399,Bath and North East Somerset 001A,Anti-social behaviour,,',\n",
       " ',2010-12,Avon and Somerset Constabulary,Avon and Somerset Constabulary,-2.511927,51.409435,On or near Harlech Close,E01014399,Bath and North East Somerset 001A,Anti-social behaviour,,',\n",
       " ',2010-12,Avon and Somerset Constabulary,Avon and Somerset Constabulary,-2.511571,51.414895,On or near Orchard Close,E01014399,Bath and North East Somerset 001A,Anti-social behaviour,,',\n",
       " ',2010-12,Avon and Somerset Constabulary,Avon and Somerset Constabulary,-2.511927,51.409435,On or near Harlech Close,E01014399,Bath and North East Somerset 001A,Anti-social behaviour,,']"
      ]
     },
     "execution_count": 16,
     "metadata": {},
     "output_type": "execute_result"
    }
   ],
   "source": [
    "justdata.take(5)"
   ]
  },
  {
   "cell_type": "markdown",
   "metadata": {},
   "source": [
    "As we can observe, the first line which contains the header has been removed from the RDD.\n",
    "\n",
    "The data without the header must now be mapped using the above function to split the lines and associate each of the values to a corresponding field."
   ]
  },
  {
   "cell_type": "code",
   "execution_count": 17,
   "metadata": {},
   "outputs": [],
   "source": [
    "#The parseline function is used to map the RDD into a dataframe with column names.\n",
    "content = justdata.map(parseline)"
   ]
  },
  {
   "cell_type": "code",
   "execution_count": 18,
   "metadata": {},
   "outputs": [
    {
     "data": {
      "text/plain": [
       "[('2010-12', 'E01017662', 'Other crime', ''),\n",
       " ('2010-12', 'E01014399', 'Anti-social behaviour', ''),\n",
       " ('2010-12', 'E01014399', 'Anti-social behaviour', ''),\n",
       " ('2010-12', 'E01014399', 'Anti-social behaviour', ''),\n",
       " ('2010-12', 'E01014399', 'Anti-social behaviour', '')]"
      ]
     },
     "execution_count": 18,
     "metadata": {},
     "output_type": "execute_result"
    }
   ],
   "source": [
    "content.take(5)"
   ]
  },
  {
   "cell_type": "markdown",
   "metadata": {},
   "source": [
    "Here, we can observe that each line has now been split into fields."
   ]
  },
  {
   "cell_type": "markdown",
   "metadata": {},
   "source": [
    "<h4>2.2.3 Creating a Schema for the RDD</h4>"
   ]
  },
  {
   "cell_type": "markdown",
   "metadata": {},
   "source": [
    "Now, we must create a schema with column headings for easier use later on when filtering and joining tables."
   ]
  },
  {
   "cell_type": "code",
   "execution_count": 19,
   "metadata": {},
   "outputs": [],
   "source": [
    "#A schema for the dataframe is created\n",
    "from pyspark.sql.types import *\n",
    "schema = StructType(\n",
    "    [StructField(\"Month\", StringType(), True),\n",
    "    StructField(\"LSOACode\", StringType(), True),\n",
    "    StructField(\"CrimeType\", StringType(), True),\n",
    "    StructField(\"Outcome\", StringType(), True)]\n",
    "    )"
   ]
  },
  {
   "cell_type": "markdown",
   "metadata": {},
   "source": [
    "A new dataframe is created using the content RDD and the above schema."
   ]
  },
  {
   "cell_type": "code",
   "execution_count": 20,
   "metadata": {},
   "outputs": [],
   "source": [
    "#The content from the above schema is added to a dataframe\n",
    "allResults = spark.createDataFrame(content, schema)"
   ]
  },
  {
   "cell_type": "markdown",
   "metadata": {},
   "source": [
    "We must now ensure that our schema has been correctly applied."
   ]
  },
  {
   "cell_type": "code",
   "execution_count": 21,
   "metadata": {},
   "outputs": [
    {
     "data": {
      "text/plain": [
       "[Row(Month='2010-12', LSOACode='E01017662', CrimeType='Other crime', Outcome=''),\n",
       " Row(Month='2010-12', LSOACode='E01014399', CrimeType='Anti-social behaviour', Outcome=''),\n",
       " Row(Month='2010-12', LSOACode='E01014399', CrimeType='Anti-social behaviour', Outcome=''),\n",
       " Row(Month='2010-12', LSOACode='E01014399', CrimeType='Anti-social behaviour', Outcome=''),\n",
       " Row(Month='2010-12', LSOACode='E01014399', CrimeType='Anti-social behaviour', Outcome='')]"
      ]
     },
     "execution_count": 21,
     "metadata": {},
     "output_type": "execute_result"
    }
   ],
   "source": [
    "allResults.take(5)"
   ]
  },
  {
   "cell_type": "markdown",
   "metadata": {},
   "source": [
    "We can now see that each value has a corresponding column name."
   ]
  },
  {
   "cell_type": "markdown",
   "metadata": {},
   "source": [
    "<h4>2.2.4 Group by Function</h4>\n",
    "\n",
    "We need to see the list of crime types to give insight of the crime types and the correct name to filter by."
   ]
  },
  {
   "cell_type": "code",
   "execution_count": 22,
   "metadata": {},
   "outputs": [],
   "source": [
    "crimeList = allResults.groupBy('CrimeType').count()"
   ]
  },
  {
   "cell_type": "code",
   "execution_count": 24,
   "metadata": {},
   "outputs": [
    {
     "data": {
      "text/plain": [
       "[Row(CrimeType='Charnwood 021E', count=375),\n",
       " Row(CrimeType='Bicycle theft', count=502391),\n",
       " Row(CrimeType='Public order', count=1319234),\n",
       " Row(CrimeType='Drugs', count=1163886),\n",
       " Row(CrimeType='Public disorder and weapons', count=242141),\n",
       " Row(CrimeType='Other crime', count=2271304),\n",
       " Row(CrimeType='Robbery', count=490235),\n",
       " Row(CrimeType='Hillingdon 009E', count=17),\n",
       " Row(CrimeType='Criminal damage and arson', count=3885733),\n",
       " Row(CrimeType='Charnwood 022D', count=28),\n",
       " Row(CrimeType='Theft from the person', count=477461),\n",
       " Row(CrimeType='Shoplifting', count=2375482),\n",
       " Row(CrimeType='Burglary', count=3407977),\n",
       " Row(CrimeType='Violent crime', count=1673194),\n",
       " Row(CrimeType='Other theft', count=3956838),\n",
       " Row(CrimeType='Hillingdon 011C', count=125),\n",
       " Row(CrimeType='Possession of weapons', count=159023),\n",
       " Row(CrimeType='Blaby 013C', count=41),\n",
       " Row(CrimeType='Violence and sexual offences', count=6133323),\n",
       " Row(CrimeType='Vehicle crime', count=3051734),\n",
       " Row(CrimeType='Bassetlaw 008B', count=8),\n",
       " Row(CrimeType='', count=31),\n",
       " Row(CrimeType='Worthing 010A', count=178),\n",
       " Row(CrimeType='Anti-social behaviour', count=15876047),\n",
       " Row(CrimeType='Charnwood 012C', count=30)]"
      ]
     },
     "execution_count": 24,
     "metadata": {},
     "output_type": "execute_result"
    }
   ],
   "source": [
    "crimeList.collect()"
   ]
  },
  {
   "cell_type": "markdown",
   "metadata": {},
   "source": [
    "This result has produced a list of all the stored crime data types in the database and the number of times that each of these incidents have occured. The crime types can now be filtered where necessary."
   ]
  },
  {
   "cell_type": "markdown",
   "metadata": {},
   "source": [
    "<h3>2.3 Is Violent Crime on the Increase?</h3>"
   ]
  },
  {
   "cell_type": "markdown",
   "metadata": {},
   "source": [
    "<p style=\"text-align:justify\">The first claim that was made in the documetary is that violent crime is on the increase. As defined by The Crown Prosecution Service <i>(Violent crime | The Crown Prosecution Service, 2021)</i>, violent crimes are defined as a range of offences that from common assault to murder. The definition also covers cases where weapons, like firearms, knives and corrosive substances (like acid) have been used.\n",
    "\n",
    "We will now filter the dataframe so that only crimes that have been defined as violent by The Crown Prosecution Service are included. These include:\n",
    "\n",
    "    1. Possession of weapons.\n",
    "    2. Robbery.\n",
    "    3. Gun and Knife Crime.\n",
    "    4. Violent Crime.\n",
    "    5. Violence and Sexual Offences.\n",
    "    \n",
    "We can then group this new dataset by the month column and count the number of instances that each month has. We will then plot this data on a Time Series graph to show the trend of how crime has changed over time.</p>"
   ]
  },
  {
   "cell_type": "code",
   "execution_count": 23,
   "metadata": {},
   "outputs": [],
   "source": [
    "violentCrimeResults = allResults.filter((allResults.CrimeType == \"Robbery\") | \n",
    "                                        (allResults.CrimeType == \"Violence and sexual offences\") | \n",
    "                                        (allResults.CrimeType == \"Possession of weapons\") | \n",
    "                                        (allResults.CrimeType == \"Robbery\")\n",
    "                                       )"
   ]
  },
  {
   "cell_type": "markdown",
   "metadata": {},
   "source": [
    "The code below ensures that the filter has worked successfully and that only those with the crime type matching those outlined above will be displayed."
   ]
  },
  {
   "cell_type": "code",
   "execution_count": 24,
   "metadata": {},
   "outputs": [
    {
     "data": {
      "text/plain": [
       "[Row(Month='2010-12', LSOACode='E01014402', CrimeType='Robbery', Outcome=''),\n",
       " Row(Month='2010-12', LSOACode='E01014370', CrimeType='Robbery', Outcome=''),\n",
       " Row(Month='2010-12', LSOACode='E01014371', CrimeType='Robbery', Outcome=''),\n",
       " Row(Month='2010-12', LSOACode='E01033080', CrimeType='Robbery', Outcome=''),\n",
       " Row(Month='2010-12', LSOACode='E01014461', CrimeType='Robbery', Outcome='')]"
      ]
     },
     "execution_count": 24,
     "metadata": {},
     "output_type": "execute_result"
    }
   ],
   "source": [
    "violentCrimeResults.take(5)"
   ]
  },
  {
   "cell_type": "markdown",
   "metadata": {},
   "source": [
    "<h4>2.3.1 Data Format</h4>"
   ]
  },
  {
   "cell_type": "markdown",
   "metadata": {},
   "source": [
    "For this next stage, we will group by month and count the number of instances in each month. We will then use this to see how the values have changed over time and if the number of cases have indeed risen, as the documenttary claimed. To execute this step, we will group the violentCrimeResults dataframe by the Month column, and then count the number of instances in each month, then order by Month to see an ordered time list."
   ]
  },
  {
   "cell_type": "code",
   "execution_count": 25,
   "metadata": {},
   "outputs": [],
   "source": [
    "violentCrimeResultsCountUnrenamed = violentCrimeResults.groupBy('Month').count().orderBy('Month')"
   ]
  },
  {
   "cell_type": "markdown",
   "metadata": {},
   "source": [
    "To keep the data easy to read, the count column will be renamed to ViolentIncidents to better represent what information it is holding."
   ]
  },
  {
   "cell_type": "code",
   "execution_count": 26,
   "metadata": {},
   "outputs": [],
   "source": [
    "violentCrimeResultsCount = violentCrimeResultsCountUnrenamed.withColumnRenamed(\"count\", \"ViolentIncidents\")"
   ]
  },
  {
   "cell_type": "markdown",
   "metadata": {},
   "source": [
    "Now, we can display the findings and see if they are increasing."
   ]
  },
  {
   "cell_type": "code",
   "execution_count": 27,
   "metadata": {},
   "outputs": [
    {
     "data": {
      "text/plain": [
       "[Row(Month='2010-12', ViolentIncidents=5731),\n",
       " Row(Month='2011-01', ViolentIncidents=6667),\n",
       " Row(Month='2011-02', ViolentIncidents=6480),\n",
       " Row(Month='2011-03', ViolentIncidents=6558),\n",
       " Row(Month='2011-04', ViolentIncidents=6275),\n",
       " Row(Month='2011-05', ViolentIncidents=6719),\n",
       " Row(Month='2011-06', ViolentIncidents=6226),\n",
       " Row(Month='2011-07', ViolentIncidents=6310),\n",
       " Row(Month='2011-08', ViolentIncidents=5960),\n",
       " Row(Month='2011-09', ViolentIncidents=5419),\n",
       " Row(Month='2011-10', ViolentIncidents=6098),\n",
       " Row(Month='2011-11', ViolentIncidents=6628),\n",
       " Row(Month='2011-12', ViolentIncidents=5727),\n",
       " Row(Month='2012-01', ViolentIncidents=6066),\n",
       " Row(Month='2012-02', ViolentIncidents=5570),\n",
       " Row(Month='2012-03', ViolentIncidents=6154),\n",
       " Row(Month='2012-04', ViolentIncidents=5626),\n",
       " Row(Month='2012-05', ViolentIncidents=5596),\n",
       " Row(Month='2012-06', ViolentIncidents=5498),\n",
       " Row(Month='2012-07', ViolentIncidents=5495),\n",
       " Row(Month='2012-08', ViolentIncidents=5311),\n",
       " Row(Month='2012-09', ViolentIncidents=5258),\n",
       " Row(Month='2012-10', ViolentIncidents=5693),\n",
       " Row(Month='2012-11', ViolentIncidents=5975),\n",
       " Row(Month='2012-12', ViolentIncidents=5799),\n",
       " Row(Month='2013-01', ViolentIncidents=5580),\n",
       " Row(Month='2013-02', ViolentIncidents=4942),\n",
       " Row(Month='2013-03', ViolentIncidents=5218),\n",
       " Row(Month='2013-04', ViolentIncidents=4829),\n",
       " Row(Month='2013-05', ViolentIncidents=63593),\n",
       " Row(Month='2013-06', ViolentIncidents=64403),\n",
       " Row(Month='2013-07', ViolentIncidents=72100),\n",
       " Row(Month='2013-08', ViolentIncidents=68598),\n",
       " Row(Month='2013-09', ViolentIncidents=63783),\n",
       " Row(Month='2013-10', ViolentIncidents=67126),\n",
       " Row(Month='2013-11', ViolentIncidents=64931),\n",
       " Row(Month='2013-12', ViolentIncidents=67386),\n",
       " Row(Month='2014-01', ViolentIncidents=65920),\n",
       " Row(Month='2014-02', ViolentIncidents=62775),\n",
       " Row(Month='2014-03', ViolentIncidents=71713),\n",
       " Row(Month='2014-04', ViolentIncidents=68748),\n",
       " Row(Month='2014-05', ViolentIncidents=75099),\n",
       " Row(Month='2014-06', ViolentIncidents=80177),\n",
       " Row(Month='2014-07', ViolentIncidents=84336),\n",
       " Row(Month='2014-08', ViolentIncidents=77239),\n",
       " Row(Month='2014-09', ViolentIncidents=80864),\n",
       " Row(Month='2014-10', ViolentIncidents=82923),\n",
       " Row(Month='2014-11', ViolentIncidents=82757),\n",
       " Row(Month='2014-12', ViolentIncidents=80792),\n",
       " Row(Month='2015-01', ViolentIncidents=79593),\n",
       " Row(Month='2015-02', ViolentIncidents=76076),\n",
       " Row(Month='2015-03', ViolentIncidents=89616),\n",
       " Row(Month='2015-04', ViolentIncidents=86470),\n",
       " Row(Month='2015-05', ViolentIncidents=94923),\n",
       " Row(Month='2015-06', ViolentIncidents=98069),\n",
       " Row(Month='2015-07', ViolentIncidents=104038),\n",
       " Row(Month='2015-08', ViolentIncidents=97951),\n",
       " Row(Month='2015-09', ViolentIncidents=95797),\n",
       " Row(Month='2015-10', ViolentIncidents=101681),\n",
       " Row(Month='2015-11', ViolentIncidents=99769),\n",
       " Row(Month='2015-12', ViolentIncidents=102286),\n",
       " Row(Month='2016-01', ViolentIncidents=101091),\n",
       " Row(Month='2016-02', ViolentIncidents=96118),\n",
       " Row(Month='2016-03', ViolentIncidents=104972),\n",
       " Row(Month='2016-04', ViolentIncidents=103269),\n",
       " Row(Month='2016-05', ViolentIncidents=114306),\n",
       " Row(Month='2016-06', ViolentIncidents=112004),\n",
       " Row(Month='2016-07', ViolentIncidents=117127),\n",
       " Row(Month='2016-08', ViolentIncidents=111795),\n",
       " Row(Month='2016-09', ViolentIncidents=115332),\n",
       " Row(Month='2016-10', ViolentIncidents=119467),\n",
       " Row(Month='2016-11', ViolentIncidents=113135),\n",
       " Row(Month='2016-12', ViolentIncidents=118410),\n",
       " Row(Month='2017-01', ViolentIncidents=116571),\n",
       " Row(Month='2017-02', ViolentIncidents=112427),\n",
       " Row(Month='2017-03', ViolentIncidents=133414),\n",
       " Row(Month='2017-04', ViolentIncidents=125833),\n",
       " Row(Month='2017-05', ViolentIncidents=140634),\n",
       " Row(Month='2017-06', ViolentIncidents=144375),\n",
       " Row(Month='2017-07', ViolentIncidents=150751),\n",
       " Row(Month='2017-08', ViolentIncidents=138726),\n",
       " Row(Month='2017-09', ViolentIncidents=135316),\n",
       " Row(Month='2017-10', ViolentIncidents=147704),\n",
       " Row(Month='2017-11', ViolentIncidents=141781),\n",
       " Row(Month='2017-12', ViolentIncidents=139100),\n",
       " Row(Month='2018-01', ViolentIncidents=141636),\n",
       " Row(Month='2018-02', ViolentIncidents=129392),\n",
       " Row(Month='2018-03', ViolentIncidents=151282),\n",
       " Row(Month='2018-04', ViolentIncidents=152435),\n",
       " Row(Month='2018-05', ViolentIncidents=168847),\n",
       " Row(Month='2018-06', ViolentIncidents=166867),\n",
       " Row(Month='2018-07', ViolentIncidents=177524)]"
      ]
     },
     "execution_count": 27,
     "metadata": {},
     "output_type": "execute_result"
    }
   ],
   "source": [
    "violentCrimeResultsCount.collect()"
   ]
  },
  {
   "cell_type": "markdown",
   "metadata": {},
   "source": [
    "While it is clear to see that the cases of violent crimes have increased between December 2010 and July 2018, this data would be better represented in a time series graph to more effectively display this increase over time."
   ]
  },
  {
   "cell_type": "markdown",
   "metadata": {},
   "source": [
    "<h4>2.3.2 Time Series Graph Format</h4>"
   ]
  },
  {
   "cell_type": "markdown",
   "metadata": {},
   "source": [
    "To execute this step, we will convert the dataframe above to pandas which can be used to plot time series graphs."
   ]
  },
  {
   "cell_type": "code",
   "execution_count": 28,
   "metadata": {},
   "outputs": [],
   "source": [
    "pandasViolentCrime = violentCrimeResultsCount.toPandas()"
   ]
  },
  {
   "cell_type": "markdown",
   "metadata": {},
   "source": [
    "The Pandas dataframe can now be plotted with the x-axis displaying the time scale, and the y-axis showing the number of violent incidents that occured each at each time."
   ]
  },
  {
   "cell_type": "code",
   "execution_count": 29,
   "metadata": {},
   "outputs": [
    {
     "data": {
      "text/plain": [
       "<function matplotlib.pyplot.show(*args, **kw)>"
      ]
     },
     "execution_count": 29,
     "metadata": {},
     "output_type": "execute_result"
    },
    {
     "data": {
      "image/png": "[encoded data removed]",
      "text/plain": [
       "<Figure size 432x288 with 1 Axes>"
      ]
     },
     "metadata": {
      "needs_background": "light"
     },
     "output_type": "display_data"
    }
   ],
   "source": [
    "pandasViolentCrime.plot()\n",
    "pyplot.show"
   ]
  },
  {
   "cell_type": "markdown",
   "metadata": {},
   "source": [
    "<p style=\"text-align:justify\">Now, we can clearly see from the graph that violent crime is on the increase, with a large rise taking place in 2013 and being sustained till July 2018, the most recent date recorded. We can further increase the usablitiy of this graph by adding a rolling mean value to highlight trends that occur over an extended period as opposed to those that occur over a short cycle. We can then find the mean over 12 months to see how the number of violent crimes changed year by year.</p>"
   ]
  },
  {
   "cell_type": "code",
   "execution_count": 30,
   "metadata": {},
   "outputs": [],
   "source": [
    "rolmean = pandasViolentCrime.rolling(12).mean()"
   ]
  },
  {
   "cell_type": "markdown",
   "metadata": {},
   "source": [
    "We can then plot the rolling mean as well as the original violent crime dataframe to display these trends over time. This can be done by plotting both on the same chart and adding appropriate labels and legends."
   ]
  },
  {
   "cell_type": "code",
   "execution_count": 31,
   "metadata": {},
   "outputs": [
    {
     "data": {
      "image/png": "[encoded data removed]",
      "text/plain": [
       "<Figure size 432x288 with 1 Axes>"
      ]
     },
     "metadata": {
      "needs_background": "light"
     },
     "output_type": "display_data"
    }
   ],
   "source": [
    "orig = pandasViolentCrime.plot(x = \"Month\", y = \"ViolentIncidents\", color = 'blue')\n",
    "mean = plt.plot(rolmean, color='red', label='Rolling Mean')\n",
    "plt.legend(loc='best')\n",
    "plt.ylabel(\"Number of Incidents\")\n",
    "plt.xlabel(\"Time\")\n",
    "plt.title('Violent Crime Incidents & The Rolling Mean')\n",
    "plt.show(block=False)\n",
    "pyplot.show()"
   ]
  },
  {
   "cell_type": "markdown",
   "metadata": {},
   "source": [
    "<h4>2.3.3 Conclusion</h4>"
   ]
  },
  {
   "cell_type": "markdown",
   "metadata": {},
   "source": [
    "It is clear to see that the number of violent crime incidents have increased over a period of eight years between December 2010 and July 2018. From this information, we can then say that the first claim made by the documentary is accurate."
   ]
  },
  {
   "cell_type": "markdown",
   "metadata": {},
   "source": [
    "<h3>2.4 Weapons Per Head</h3>"
   ]
  },
  {
   "cell_type": "markdown",
   "metadata": {},
   "source": [
    "<p text-align:justify>The next claim that was made in the documentary is that there are more firearms incidents per head in birmingham than anywhere else in the UK.\n",
    "\n",
    "Possession of firearms in the UK carries a mandatory prison sentence, according to The Crown Prosecution Service <i>(Firearms | The Crown Prosecution Service, 2021).</i>. Therefore, we will filter based on the crimetype and the outcome of the crime.</p>"
   ]
  },
  {
   "cell_type": "markdown",
   "metadata": {},
   "source": [
    "We begin by importing the postrans file, which allows us translate the longitude and latitude of the crimes' dataset into actual postcodes."
   ]
  },
  {
   "cell_type": "code",
   "execution_count": 32,
   "metadata": {},
   "outputs": [],
   "source": [
    "postrans = sc.textFile('../ass2/posttrans.csv')"
   ]
  },
  {
   "cell_type": "code",
   "execution_count": 33,
   "metadata": {},
   "outputs": [
    {
     "data": {
      "text/plain": [
       "['Postcode,Lon,Lat',\n",
       " 'HP20 1BL,-0.805600,51.819143',\n",
       " 'BS31 2BT,-2.494366,51.418169',\n",
       " 'BS31 2PJ,-2.511927,51.409435',\n",
       " 'BS31 2EG,-2.511571,51.414895']"
      ]
     },
     "execution_count": 33,
     "metadata": {},
     "output_type": "execute_result"
    }
   ],
   "source": [
    "postrans.take(5)"
   ]
  },
  {
   "cell_type": "code",
   "execution_count": 35,
   "metadata": {},
   "outputs": [
    {
     "data": {
      "text/plain": [
       "846261"
      ]
     },
     "execution_count": 35,
     "metadata": {},
     "output_type": "execute_result"
    }
   ],
   "source": [
    "postrans.count()"
   ]
  },
  {
   "cell_type": "markdown",
   "metadata": {},
   "source": [
    "We will process this dataset in the same format as we did in the previous section to remove headers and retrieve only the columns that are needed."
   ]
  },
  {
   "cell_type": "code",
   "execution_count": 34,
   "metadata": {},
   "outputs": [],
   "source": [
    "#function splits the lines into columns and gives an attribute name to each of the columns\n",
    "def parseline(postrans):\n",
    "    fields = postrans.split(',')\n",
    "    Postcode = fields[0]\n",
    "    Longitude = fields[1]\n",
    "    Latitude = fields[2]\n",
    "    return (Postcode, Longitude, Latitude)"
   ]
  },
  {
   "cell_type": "code",
   "execution_count": 35,
   "metadata": {},
   "outputs": [],
   "source": [
    "#the first row is a header, so it is located\n",
    "header = postrans.first()\n",
    "#and then it is filtered out, leaving just the usable data behind.\n",
    "posdata = postrans.filter(lambda row: row != header)"
   ]
  },
  {
   "cell_type": "code",
   "execution_count": 36,
   "metadata": {},
   "outputs": [
    {
     "data": {
      "text/plain": [
       "['HP20 1BL,-0.805600,51.819143',\n",
       " 'BS31 2BT,-2.494366,51.418169',\n",
       " 'BS31 2PJ,-2.511927,51.409435',\n",
       " 'BS31 2EG,-2.511571,51.414895',\n",
       " 'BS31 2LQ,-2.513308,51.409456']"
      ]
     },
     "execution_count": 36,
     "metadata": {},
     "output_type": "execute_result"
    }
   ],
   "source": [
    "posdata.take(5)"
   ]
  },
  {
   "cell_type": "code",
   "execution_count": 37,
   "metadata": {},
   "outputs": [],
   "source": [
    "#The parseline function is used to map the RDD into a dataframe with column names.\n",
    "cont = posdata.map(parseline)"
   ]
  },
  {
   "cell_type": "code",
   "execution_count": 38,
   "metadata": {},
   "outputs": [
    {
     "data": {
      "text/plain": [
       "[('HP20 1BL', '-0.805600', '51.819143'),\n",
       " ('BS31 2BT', '-2.494366', '51.418169'),\n",
       " ('BS31 2PJ', '-2.511927', '51.409435'),\n",
       " ('BS31 2EG', '-2.511571', '51.414895'),\n",
       " ('BS31 2LQ', '-2.513308', '51.409456')]"
      ]
     },
     "execution_count": 38,
     "metadata": {},
     "output_type": "execute_result"
    }
   ],
   "source": [
    "cont.take(5)"
   ]
  },
  {
   "cell_type": "code",
   "execution_count": 39,
   "metadata": {},
   "outputs": [],
   "source": [
    "#A schema for the dataframe is created\n",
    "from pyspark.sql.types import *\n",
    "scheme = StructType(\n",
    "    [StructField(\"Postcode\", StringType(), True),\n",
    "    StructField(\"Longitude\", StringType(), True),\n",
    "    StructField(\"Latitude\", StringType(), True)]\n",
    "    )"
   ]
  },
  {
   "cell_type": "markdown",
   "metadata": {},
   "source": [
    "We then create a dataframe from the processes data set."
   ]
  },
  {
   "cell_type": "code",
   "execution_count": 40,
   "metadata": {},
   "outputs": [],
   "source": [
    "#The content from the above schema is added to a dataframe\n",
    "postcodes = spark.createDataFrame(cont, scheme)"
   ]
  },
  {
   "cell_type": "code",
   "execution_count": 41,
   "metadata": {},
   "outputs": [
    {
     "data": {
      "text/plain": [
       "[Row(Postcode='HP20 1BL', Longitude='-0.805600', Latitude='51.819143'),\n",
       " Row(Postcode='BS31 2BT', Longitude='-2.494366', Latitude='51.418169'),\n",
       " Row(Postcode='BS31 2PJ', Longitude='-2.511927', Latitude='51.409435'),\n",
       " Row(Postcode='BS31 2EG', Longitude='-2.511571', Latitude='51.414895'),\n",
       " Row(Postcode='BS31 2LQ', Longitude='-2.513308', Latitude='51.409456')]"
      ]
     },
     "execution_count": 41,
     "metadata": {},
     "output_type": "execute_result"
    }
   ],
   "source": [
    "postcodes.take(5)"
   ]
  },
  {
   "cell_type": "markdown",
   "metadata": {},
   "source": [
    "We then import the crimes' dataset again, with a different name, and process it into required format."
   ]
  },
  {
   "cell_type": "code",
   "execution_count": 42,
   "metadata": {},
   "outputs": [],
   "source": [
    "crimes = sc.textFile('../ass2/all_crimes18_hdr.txt.gz')"
   ]
  },
  {
   "cell_type": "code",
   "execution_count": 43,
   "metadata": {},
   "outputs": [
    {
     "data": {
      "text/plain": [
       "['Crime ID,Month,Reported by,Falls within,Longitude,Latitude,Location,LSOA code,LSOA name,Crime type,Last outcome category,Context',\n",
       " ',2010-12,Avon and Somerset Constabulary,Avon and Somerset Constabulary,-0.805600,51.819143,On or near Norfolk Terrace,E01017662,Aylesbury Vale 015C,Other crime,,',\n",
       " ',2010-12,Avon and Somerset Constabulary,Avon and Somerset Constabulary,-2.494366,51.418169,On or near Keynsham Road,E01014399,Bath and North East Somerset 001A,Anti-social behaviour,,',\n",
       " ',2010-12,Avon and Somerset Constabulary,Avon and Somerset Constabulary,-2.511927,51.409435,On or near Harlech Close,E01014399,Bath and North East Somerset 001A,Anti-social behaviour,,',\n",
       " ',2010-12,Avon and Somerset Constabulary,Avon and Somerset Constabulary,-2.511571,51.414895,On or near Orchard Close,E01014399,Bath and North East Somerset 001A,Anti-social behaviour,,']"
      ]
     },
     "execution_count": 43,
     "metadata": {},
     "output_type": "execute_result"
    }
   ],
   "source": [
    "crimes.take(5)"
   ]
  },
  {
   "cell_type": "code",
   "execution_count": 44,
   "metadata": {},
   "outputs": [],
   "source": [
    "#function splits the lines into columns and gives an attribute name to each of the columns\n",
    "def parseline(crimes):\n",
    "    fields = crimes.split(',')\n",
    "    Longitude = fields[4]\n",
    "    Latitude = fields[5]\n",
    "    LSOACode = fields[7]\n",
    "    CrimeType = fields[9]\n",
    "    Outcome = fields[10]\n",
    "    return (Longitude, Latitude, LSOACode, CrimeType, Outcome)"
   ]
  },
  {
   "cell_type": "code",
   "execution_count": 45,
   "metadata": {},
   "outputs": [],
   "source": [
    "#the first row is a header, so it is located\n",
    "header = crimes.first()\n",
    "#and then it is filtered out, leaving just the usable data behind.\n",
    "crimedata = crimes.filter(lambda row: row != header)"
   ]
  },
  {
   "cell_type": "code",
   "execution_count": 46,
   "metadata": {},
   "outputs": [
    {
     "data": {
      "text/plain": [
       "[',2010-12,Avon and Somerset Constabulary,Avon and Somerset Constabulary,-0.805600,51.819143,On or near Norfolk Terrace,E01017662,Aylesbury Vale 015C,Other crime,,',\n",
       " ',2010-12,Avon and Somerset Constabulary,Avon and Somerset Constabulary,-2.494366,51.418169,On or near Keynsham Road,E01014399,Bath and North East Somerset 001A,Anti-social behaviour,,',\n",
       " ',2010-12,Avon and Somerset Constabulary,Avon and Somerset Constabulary,-2.511927,51.409435,On or near Harlech Close,E01014399,Bath and North East Somerset 001A,Anti-social behaviour,,',\n",
       " ',2010-12,Avon and Somerset Constabulary,Avon and Somerset Constabulary,-2.511571,51.414895,On or near Orchard Close,E01014399,Bath and North East Somerset 001A,Anti-social behaviour,,',\n",
       " ',2010-12,Avon and Somerset Constabulary,Avon and Somerset Constabulary,-2.511927,51.409435,On or near Harlech Close,E01014399,Bath and North East Somerset 001A,Anti-social behaviour,,']"
      ]
     },
     "execution_count": 46,
     "metadata": {},
     "output_type": "execute_result"
    }
   ],
   "source": [
    "crimedata.take(5)"
   ]
  },
  {
   "cell_type": "code",
   "execution_count": 47,
   "metadata": {},
   "outputs": [],
   "source": [
    "#The parseline function is used to map the RDD into a dataframe with column names.\n",
    "crime = crimedata.map(parseline)"
   ]
  },
  {
   "cell_type": "code",
   "execution_count": 48,
   "metadata": {},
   "outputs": [
    {
     "data": {
      "text/plain": [
       "[('-0.805600', '51.819143', 'E01017662', 'Other crime', ''),\n",
       " ('-2.494366', '51.418169', 'E01014399', 'Anti-social behaviour', ''),\n",
       " ('-2.511927', '51.409435', 'E01014399', 'Anti-social behaviour', ''),\n",
       " ('-2.511571', '51.414895', 'E01014399', 'Anti-social behaviour', ''),\n",
       " ('-2.511927', '51.409435', 'E01014399', 'Anti-social behaviour', '')]"
      ]
     },
     "execution_count": 48,
     "metadata": {},
     "output_type": "execute_result"
    }
   ],
   "source": [
    "crime.take(5)"
   ]
  },
  {
   "cell_type": "code",
   "execution_count": 49,
   "metadata": {},
   "outputs": [],
   "source": [
    "#A schema for the dataframe is created\n",
    "from pyspark.sql.types import *\n",
    "scheme1 = StructType(\n",
    "    [StructField(\"Longitude\", StringType(), True),\n",
    "    StructField(\"Latitude\", StringType(), True),\n",
    "    StructField(\"LSOACode\", StringType(), True),\n",
    "    StructField(\"CrimeType\", StringType(), True),\n",
    "    StructField(\"Outcome\", StringType(), True)]\n",
    "    )"
   ]
  },
  {
   "cell_type": "code",
   "execution_count": 50,
   "metadata": {},
   "outputs": [],
   "source": [
    "#The content from the above schema is added to a dataframe\n",
    "crimes1 = spark.createDataFrame(crime, scheme1)"
   ]
  },
  {
   "cell_type": "code",
   "execution_count": 51,
   "metadata": {},
   "outputs": [
    {
     "data": {
      "text/plain": [
       "[Row(Longitude='-0.805600', Latitude='51.819143', LSOACode='E01017662', CrimeType='Other crime', Outcome=''),\n",
       " Row(Longitude='-2.494366', Latitude='51.418169', LSOACode='E01014399', CrimeType='Anti-social behaviour', Outcome=''),\n",
       " Row(Longitude='-2.511927', Latitude='51.409435', LSOACode='E01014399', CrimeType='Anti-social behaviour', Outcome=''),\n",
       " Row(Longitude='-2.511571', Latitude='51.414895', LSOACode='E01014399', CrimeType='Anti-social behaviour', Outcome=''),\n",
       " Row(Longitude='-2.511927', Latitude='51.409435', LSOACode='E01014399', CrimeType='Anti-social behaviour', Outcome='')]"
      ]
     },
     "execution_count": 51,
     "metadata": {},
     "output_type": "execute_result"
    }
   ],
   "source": [
    "crimes1.take(5)"
   ]
  },
  {
   "cell_type": "markdown",
   "metadata": {},
   "source": [
    "At this point, both dataframes that have been created will be combined using the join command feature. As Longitude and Latitude are the common features, we will join the table based on these features."
   ]
  },
  {
   "cell_type": "code",
   "execution_count": 52,
   "metadata": {},
   "outputs": [],
   "source": [
    "df1 = crimes1.join(postcodes, ['Longitude', 'Latitude'])"
   ]
  },
  {
   "cell_type": "code",
   "execution_count": 53,
   "metadata": {},
   "outputs": [
    {
     "name": "stdout",
     "output_type": "stream",
     "text": [
      "+---------+---------+---------+--------------------+-------+--------+\n",
      "|Longitude| Latitude| LSOACode|           CrimeType|Outcome|Postcode|\n",
      "+---------+---------+---------+--------------------+-------+--------+\n",
      "|-0.000043|51.546683|E01003617|         Other crime|       | E15 1QA|\n",
      "|-0.000043|51.546683|E01003617|       Vehicle crime|       | E15 1QA|\n",
      "|-0.000043|51.546683|E01003617|       Vehicle crime|       | E15 1QA|\n",
      "|-0.000043|51.546683|E01003617|       Vehicle crime|       | E15 1QA|\n",
      "|-0.000043|51.546683|E01003617|         Other crime|       | E15 1QA|\n",
      "|-0.000043|51.546683|E01003617|         Other crime|       | E15 1QA|\n",
      "|-0.000043|51.546683|E01003617|         Other crime|       | E15 1QA|\n",
      "|-0.000043|51.546683|E01003617|       Violent crime|       | E15 1QA|\n",
      "|-0.000043|51.546683|E01003617|             Robbery|       | E15 1QA|\n",
      "|-0.000043|51.546683|E01003617|         Other crime|       | E15 1QA|\n",
      "|-0.000043|51.546683|E01003617|Anti-social behav...|       | E15 1QA|\n",
      "|-0.000043|51.546683|E01003617|       Vehicle crime|       | E15 1QA|\n",
      "|-0.000043|51.546683|E01003617|       Violent crime|       | E15 1QA|\n",
      "|-0.000043|51.546683|E01003617|Anti-social behav...|       | E15 1QA|\n",
      "|-0.000043|51.546683|E01003617|Anti-social behav...|       | E15 1QA|\n",
      "|-0.000043|51.546683|E01003617|Anti-social behav...|       | E15 1QA|\n",
      "|-0.000043|51.546683|E01003617|       Vehicle crime|       | E15 1QA|\n",
      "|-0.000380|53.363833|E01026081|Anti-social behav...|       |LN11 9DA|\n",
      "|-0.000380|53.363833|E01026081|         Other crime|       |LN11 9DA|\n",
      "|-0.000380|53.363833|E01026081|         Other crime|       |LN11 9DA|\n",
      "+---------+---------+---------+--------------------+-------+--------+\n",
      "only showing top 20 rows\n",
      "\n"
     ]
    }
   ],
   "source": [
    "df1.show()"
   ]
  },
  {
   "cell_type": "markdown",
   "metadata": {},
   "source": [
    "The LSOA data set is now imported. This data set file is where we will extract the area population."
   ]
  },
  {
   "cell_type": "code",
   "execution_count": 54,
   "metadata": {},
   "outputs": [],
   "source": [
    "lsoa = sc.textFile('../ass2/LSOA_pop_v2.csv')"
   ]
  },
  {
   "cell_type": "code",
   "execution_count": 55,
   "metadata": {},
   "outputs": [
    {
     "data": {
      "text/plain": [
       "['\"date\",\"geography\",\"geography code\",\"Rural Urban\",\"Variable: All usual residents; measures: Value\",\"Variable: Males; measures: Value\",\"Variable: Females; measures: Value\",\"Variable: Lives in a household; measures: Value\",\"Variable: Lives in a communal establishment; measures: Value\",\"Variable: Schoolchild or full-time student aged 4 and over at their non term-time address; measures: Value\",\"Variable: Area (Hectares); measures: Value\",\"Variable: Density (number of persons per hectare); measures: Value\"',\n",
       " '2011,Darlington 001B,E01012334,Total,2466,1220,1246,2466,0,42,6033.58,0.4',\n",
       " '2011,Darlington 001C,E01012335,Total,1383,682,701,1383,0,21,114.01,12.1',\n",
       " '2011,Darlington 001D,E01012366,Total,2008,972,1036,2008,0,30,6718.16,0.3',\n",
       " '2011,Darlington 001E,E01033481,Total,1364,680,684,1350,14,21,146.95,9.3']"
      ]
     },
     "execution_count": 55,
     "metadata": {},
     "output_type": "execute_result"
    }
   ],
   "source": [
    "lsoa.take(5)"
   ]
  },
  {
   "cell_type": "code",
   "execution_count": 56,
   "metadata": {},
   "outputs": [],
   "source": [
    "#function splits the lines into columns and gives an attribute name to each of the columns\n",
    "def parseline(lsoa):\n",
    "    fields = lsoa.split(',')\n",
    "    LSOACode = fields[2]\n",
    "    Population = fields[4]\n",
    "    return (LSOACode, Population)"
   ]
  },
  {
   "cell_type": "code",
   "execution_count": 57,
   "metadata": {},
   "outputs": [],
   "source": [
    "#the first row is a header, so it is located\n",
    "header = lsoa.first()\n",
    "#and then it is filtered out, leaving just the usable data behind.\n",
    "lsoadata = lsoa.filter(lambda row: row != header)"
   ]
  },
  {
   "cell_type": "code",
   "execution_count": 58,
   "metadata": {},
   "outputs": [],
   "source": [
    "#The parseline function is used to map the RDD into a dataframe with column names.\n",
    "lsoaparse = lsoadata.map(parseline)"
   ]
  },
  {
   "cell_type": "code",
   "execution_count": 59,
   "metadata": {},
   "outputs": [
    {
     "data": {
      "text/plain": [
       "[('E01012334', '2466'),\n",
       " ('E01012335', '1383'),\n",
       " ('E01012366', '2008'),\n",
       " ('E01033481', '1364'),\n",
       " ('E01033482', '1621')]"
      ]
     },
     "execution_count": 59,
     "metadata": {},
     "output_type": "execute_result"
    }
   ],
   "source": [
    "lsoaparse.take(5)"
   ]
  },
  {
   "cell_type": "code",
   "execution_count": 60,
   "metadata": {},
   "outputs": [],
   "source": [
    "#A schema for the dataframe is created\n",
    "from pyspark.sql.types import *\n",
    "schema2 = StructType(\n",
    "    [StructField(\"LSOACode\", StringType(), True),\n",
    "    StructField(\"Population\", StringType(), True)]\n",
    "    )"
   ]
  },
  {
   "cell_type": "markdown",
   "metadata": {},
   "source": [
    "A dataframe is now created from the processed data set."
   ]
  },
  {
   "cell_type": "code",
   "execution_count": 61,
   "metadata": {},
   "outputs": [],
   "source": [
    "#The content from the above schema is added to a dataframe\n",
    "lsoadf = spark.createDataFrame(lsoaparse, schema2)"
   ]
  },
  {
   "cell_type": "code",
   "execution_count": 62,
   "metadata": {},
   "outputs": [
    {
     "data": {
      "text/plain": [
       "[Row(LSOACode='E01012334', Population='2466'),\n",
       " Row(LSOACode='E01012335', Population='1383'),\n",
       " Row(LSOACode='E01012366', Population='2008'),\n",
       " Row(LSOACode='E01033481', Population='1364'),\n",
       " Row(LSOACode='E01033482', Population='1621')]"
      ]
     },
     "execution_count": 62,
     "metadata": {},
     "output_type": "execute_result"
    }
   ],
   "source": [
    "lsoadf.take(5)"
   ]
  },
  {
   "cell_type": "markdown",
   "metadata": {},
   "source": [
    "The LSOA dataframe will now be joined with the df1 dataframe created above."
   ]
  },
  {
   "cell_type": "code",
   "execution_count": 76,
   "metadata": {},
   "outputs": [],
   "source": [
    "df2 = df1.join(lsoadf, ['LSOACode'])"
   ]
  },
  {
   "cell_type": "code",
   "execution_count": 66,
   "metadata": {},
   "outputs": [
    {
     "name": "stdout",
     "output_type": "stream",
     "text": [
      "+---------+---------+---------+--------------------+-------+--------+----------+\n",
      "| LSOACode|Longitude| Latitude|           CrimeType|Outcome|Postcode|Population|\n",
      "+---------+---------+---------+--------------------+-------+--------+----------+\n",
      "|E01000078| 0.130484|51.550051|Anti-social behav...|       | RM9 5XT|      1666|\n",
      "|E01000078| 0.130484|51.550051|Anti-social behav...|       | RM9 5XT|      1666|\n",
      "|E01000078| 0.130484|51.550051|Anti-social behav...|       | RM9 5XT|      1666|\n",
      "|E01000078| 0.130484|51.550051|Anti-social behav...|       | RM9 5XT|      1666|\n",
      "|E01000078| 0.130484|51.550051|Anti-social behav...|       | RM9 5XT|      1666|\n",
      "|E01000078| 0.130484|51.550051|Anti-social behav...|       | RM9 5XT|      1666|\n",
      "|E01000078| 0.130484|51.550051|Anti-social behav...|       | RM9 5XT|      1666|\n",
      "|E01000078| 0.130484|51.550051|Anti-social behav...|       | RM9 5XT|      1666|\n",
      "|E01000078| 0.130484|51.550051|Anti-social behav...|       | RM9 5XT|      1666|\n",
      "|E01000078| 0.130484|51.550051|       Vehicle crime|       | RM9 5XT|      1666|\n",
      "|E01000078| 0.130484|51.550051|Anti-social behav...|       | RM9 5XT|      1666|\n",
      "|E01000078| 0.130484|51.550051|Anti-social behav...|       | RM9 5XT|      1666|\n",
      "|E01000078| 0.130484|51.550051|Anti-social behav...|       | RM9 5XT|      1666|\n",
      "|E01000078| 0.130484|51.550051|Anti-social behav...|       | RM9 5XT|      1666|\n",
      "|E01000078| 0.130484|51.550051|Anti-social behav...|       | RM9 5XT|      1666|\n",
      "|E01000078| 0.130484|51.550051|       Violent crime|       | RM9 5XT|      1666|\n",
      "|E01000078| 0.130484|51.550051|Anti-social behav...|       | RM9 5XT|      1666|\n",
      "|E01000078| 0.130484|51.550051|Anti-social behav...|       | RM9 5XT|      1666|\n",
      "|E01000078| 0.130484|51.550051|Anti-social behav...|       | RM9 5XT|      1666|\n",
      "|E01000078| 0.130484|51.550051|       Violent crime|       | RM9 5XT|      1666|\n",
      "+---------+---------+---------+--------------------+-------+--------+----------+\n",
      "only showing top 20 rows\n",
      "\n"
     ]
    }
   ],
   "source": [
    "df2.show()"
   ]
  },
  {
   "cell_type": "markdown",
   "metadata": {},
   "source": [
    "The deprivation data set is imported for extracting the location data. We will process it as other data files have been done prviously."
   ]
  },
  {
   "cell_type": "code",
   "execution_count": 63,
   "metadata": {},
   "outputs": [],
   "source": [
    "deprivation = sc.textFile('../ass2/deprivation_with_hdr.gz')"
   ]
  },
  {
   "cell_type": "code",
   "execution_count": 64,
   "metadata": {},
   "outputs": [
    {
     "data": {
      "text/plain": [
       "['LSOA CODE,PRE 2009 LA CODE,PRE 2009 LA NAME,POST 2009 LA CODE,POST 2009 LA NAME,GOR CODE,GOR NAME,IMD SCORE,RANK OF IMD SCORE (where 1 is most deprived),INCOME SCORE,RANK OF INCOME SCORE (where 1 is most deprived),EMPLOYMENT SCORE,RANK OF EMPLOYMENT SCORE (where 1 is most deprived),HEALTH DEPRIVATION AND DISABILITY SCORE,RANK OF HEALTH DEPRIVATION AND DISABILITY SCORE (where 1 is most deprived),EDUCATION SKILLS AND TRAINING SCORE,RANK OF EDUCATION SKILLS AND TRAINING SCORE (where 1 is most deprived),BARRIERS TO HOUSING AND SERVICES SCORE,RANK OF BARRIERS TO HOUSING AND SERVICES SCORE (where 1 is most deprived),CRIME AND DISORDER SCORE,RANK OF CRIME SCORE (where 1 is most deprived),LIVING ENVIRONMENT SCORE,RANK OF LIVING ENVIRONMENT SCORE (where 1 is most deprived),Indoors Sub-domain Score,Indoors Sub-domain Rank (where 1 is most deprived),Outdoors Sub-domain Score,Outdoors Sub-domain Rank (where 1 is most deprived),Geographical Barriers Sub-domain Score,Geographical Barriers Sub-domain Rank (where 1 is most deprived),Wider Barriers Sub-domain Score,Wider Barriers Sub-domain Rank (where 1 is most deprived),Children/Young People Sub-domain Score,Children/Young People Sub-domain Rank (where 1 is most deprived),Skills Sub-domain Score,Skills Sub-domain Rank (where 1 is most deprived),IDACI score,Rank of IDACI (where 1 is most deprived),IDAOPI score,Rank of IDAOPI (where 1 is most deprived)',\n",
       " 'E01000001,00AA,City of London,00AA,City of London,H,London,6.16,28814,0.01,32460,0.01,32435,-2.11,32332,0.21,32421,32.6,5491,-1.64,31816,26.28,10212,20.76,12921,37.32,6070,6.2,24711,59.01,2105,0.41,31905,0.01,32462,0.04,28761,0,32456',\n",
       " 'E01000002,00AA,City of London,00AA,City of London,H,London,5.59,29450,0.01,32457,0.01,32452,-2.78,32472,0.26,32392,30.26,6980,-1.93,32269,25.73,10483,15.74,16178,45.72,4083,2.14,29561,58.37,2176,0.5,31775,0.02,32452,0,32415,0.03,32339',\n",
       " 'E01000003,00AA,City of London,00AA,City of London,H,London,13.29,20047,0.07,22562,0.05,26026,-0.97,28188,7.16,24611,40.32,2211,-1.21,30147,36.48,6088,20.56,13035,68.32,1263,0.78,31387,79.86,597,13.65,17752,0.66,31549,0.19,13938,0.18,14932',\n",
       " 'E01000004,00AA,City of London,00AA,City of London,H,London,11.17,22503,0.04,30002,0.04,28814,-1.04,28814,1.76,30899,37.92,3012,-1.32,30744,46.72,3257,32.45,7602,75.25,824,11.19,19802,64.64,1556,3.3,28082,0.22,32166,0.05,27689,0.07,29527']"
      ]
     },
     "execution_count": 64,
     "metadata": {},
     "output_type": "execute_result"
    }
   ],
   "source": [
    "deprivation.take(5)"
   ]
  },
  {
   "cell_type": "markdown",
   "metadata": {},
   "source": [
    "This helps us to retrieve data in the 'LSOACode' and 'Location' columns. The LSOACode column helps us to combine this data with data in the previous table."
   ]
  },
  {
   "cell_type": "code",
   "execution_count": 65,
   "metadata": {},
   "outputs": [],
   "source": [
    "#function splits the lines into columns and gives an attribute name to each of the columns\n",
    "def parseline(deprivation):\n",
    "    fields = deprivation.split(',')\n",
    "    LSOACode = fields[0]\n",
    "    Location = fields[2]\n",
    "    return (LSOACode, Location)"
   ]
  },
  {
   "cell_type": "code",
   "execution_count": 66,
   "metadata": {},
   "outputs": [],
   "source": [
    "#the first row is a header, so it is located\n",
    "header = deprivation.first()\n",
    "#and then it is filtered out, leaving just the usable data behind.\n",
    "depdata = deprivation.filter(lambda row: row != header)"
   ]
  },
  {
   "cell_type": "code",
   "execution_count": 67,
   "metadata": {},
   "outputs": [
    {
     "data": {
      "text/plain": [
       "['E01000001,00AA,City of London,00AA,City of London,H,London,6.16,28814,0.01,32460,0.01,32435,-2.11,32332,0.21,32421,32.6,5491,-1.64,31816,26.28,10212,20.76,12921,37.32,6070,6.2,24711,59.01,2105,0.41,31905,0.01,32462,0.04,28761,0,32456',\n",
       " 'E01000002,00AA,City of London,00AA,City of London,H,London,5.59,29450,0.01,32457,0.01,32452,-2.78,32472,0.26,32392,30.26,6980,-1.93,32269,25.73,10483,15.74,16178,45.72,4083,2.14,29561,58.37,2176,0.5,31775,0.02,32452,0,32415,0.03,32339',\n",
       " 'E01000003,00AA,City of London,00AA,City of London,H,London,13.29,20047,0.07,22562,0.05,26026,-0.97,28188,7.16,24611,40.32,2211,-1.21,30147,36.48,6088,20.56,13035,68.32,1263,0.78,31387,79.86,597,13.65,17752,0.66,31549,0.19,13938,0.18,14932',\n",
       " 'E01000004,00AA,City of London,00AA,City of London,H,London,11.17,22503,0.04,30002,0.04,28814,-1.04,28814,1.76,30899,37.92,3012,-1.32,30744,46.72,3257,32.45,7602,75.25,824,11.19,19802,64.64,1556,3.3,28082,0.22,32166,0.05,27689,0.07,29527',\n",
       " 'E01000005,00AA,City of London,00AA,City of London,H,London,21.36,12978,0.16,11341,0.07,19427,0.07,14900,20.24,13235,34.66,4407,-1.02,28792,40.94,4730,33.81,7141,55.21,2560,5.22,25804,64.1,1603,29.81,8580,10.68,20258,0.29,8404,0.35,4973']"
      ]
     },
     "execution_count": 67,
     "metadata": {},
     "output_type": "execute_result"
    }
   ],
   "source": [
    "depdata.take(5)"
   ]
  },
  {
   "cell_type": "code",
   "execution_count": 68,
   "metadata": {},
   "outputs": [],
   "source": [
    "#The parseline function is used to map the RDD into a dataframe with column names.\n",
    "deparse = depdata.map(parseline)"
   ]
  },
  {
   "cell_type": "code",
   "execution_count": 69,
   "metadata": {},
   "outputs": [
    {
     "data": {
      "text/plain": [
       "[('E01000001', 'City of London'),\n",
       " ('E01000002', 'City of London'),\n",
       " ('E01000003', 'City of London'),\n",
       " ('E01000004', 'City of London'),\n",
       " ('E01000005', 'City of London')]"
      ]
     },
     "execution_count": 69,
     "metadata": {},
     "output_type": "execute_result"
    }
   ],
   "source": [
    "deparse.take(5)"
   ]
  },
  {
   "cell_type": "code",
   "execution_count": 70,
   "metadata": {},
   "outputs": [],
   "source": [
    "#A schema for the dataframe is created\n",
    "from pyspark.sql.types import *\n",
    "schema3 = StructType(\n",
    "    [StructField(\"LSOACode\", StringType(), True),\n",
    "    StructField(\"Location\", StringType(), True)]\n",
    "    )"
   ]
  },
  {
   "cell_type": "code",
   "execution_count": 71,
   "metadata": {},
   "outputs": [],
   "source": [
    "#The content from the above schema is added to a dataframe\n",
    "depdf = spark.createDataFrame(deparse, schema3)"
   ]
  },
  {
   "cell_type": "code",
   "execution_count": 72,
   "metadata": {},
   "outputs": [
    {
     "data": {
      "text/plain": [
       "[Row(LSOACode='E01000001', Location='City of London'),\n",
       " Row(LSOACode='E01000002', Location='City of London'),\n",
       " Row(LSOACode='E01000003', Location='City of London'),\n",
       " Row(LSOACode='E01000004', Location='City of London'),\n",
       " Row(LSOACode='E01000005', Location='City of London')]"
      ]
     },
     "execution_count": 72,
     "metadata": {},
     "output_type": "execute_result"
    }
   ],
   "source": [
    "depdf.take(5)"
   ]
  },
  {
   "cell_type": "markdown",
   "metadata": {},
   "source": [
    "Now, we will attemp to join all dataframes that have been created together."
   ]
  },
  {
   "cell_type": "code",
   "execution_count": 73,
   "metadata": {},
   "outputs": [],
   "source": [
    "df4 = lsoadf.join(depdf, ['LSOACode'])"
   ]
  },
  {
   "cell_type": "code",
   "execution_count": null,
   "metadata": {},
   "outputs": [],
   "source": [
    "df4.show()"
   ]
  },
  {
   "cell_type": "markdown",
   "metadata": {},
   "source": [
    "<p style=\"text-align:justify\">Here, we filter our results to obtain only data pertaining to our intended results, which is data relating to arrests relating to possession of weapons. We add the extra filter of the outcome, as according to the crown prosecution service, possession of weapons such as firearms carries a mandatory prison sentence. So, we will make an assumption that arrests that ended up with a prison sentence in this category included offenders who carried firearms.</p>"
   ]
  },
  {
   "cell_type": "code",
   "execution_count": 77,
   "metadata": {},
   "outputs": [],
   "source": [
    "firearmsResults = df2.filter((df2.CrimeType == \"Possession of weapons\") & \n",
    "                            (df2.Outcome == \"Offender sent to prison\") \n",
    "                            )"
   ]
  },
  {
   "cell_type": "code",
   "execution_count": 78,
   "metadata": {},
   "outputs": [
    {
     "data": {
      "text/plain": [
       "[Row(LSOACode='E01000975', Longitude='-0.091592', Latitude='51.376017', CrimeType='Possession of weapons', Outcome='Offender sent to prison', Postcode='CR0 6BT', Population='1613'),\n",
       " Row(LSOACode='E01001697', Longitude='0.067596', Latitude='51.483560', CrimeType='Possession of weapons', Outcome='Offender sent to prison', Postcode='SE18 6TY', Population='2094'),\n",
       " Row(LSOACode='E01001876', Longitude='-0.233443', Latitude='51.515072', CrimeType='Possession of weapons', Outcome='Offender sent to prison', Postcode='W12 7AD', Population='2232'),\n",
       " Row(LSOACode='E01002965', Longitude='-0.308139', Latitude='51.403417', CrimeType='Possession of weapons', Outcome='Offender sent to prison', Postcode='KT1 2LZ', Population='2325'),\n",
       " Row(LSOACode='E01004173', Longitude='-0.145980', Latitude='51.367457', CrimeType='Possession of weapons', Outcome='Offender sent to prison', Postcode='SM6 8BE', Population='1385')]"
      ]
     },
     "execution_count": 78,
     "metadata": {},
     "output_type": "execute_result"
    }
   ],
   "source": [
    "firearmsResults.take(5)"
   ]
  },
  {
   "cell_type": "code",
   "execution_count": 79,
   "metadata": {},
   "outputs": [],
   "source": [
    "depdfResults = depdf.filter(depdf.Location == \"Birmingham\")"
   ]
  },
  {
   "cell_type": "code",
   "execution_count": 80,
   "metadata": {},
   "outputs": [
    {
     "name": "stdout",
     "output_type": "stream",
     "text": [
      "+---------+----------+\n",
      "| LSOACode|  Location|\n",
      "+---------+----------+\n",
      "|E01008881|Birmingham|\n",
      "|E01008882|Birmingham|\n",
      "|E01008883|Birmingham|\n",
      "|E01008884|Birmingham|\n",
      "|E01008885|Birmingham|\n",
      "|E01008886|Birmingham|\n",
      "|E01008887|Birmingham|\n",
      "|E01008888|Birmingham|\n",
      "|E01008889|Birmingham|\n",
      "|E01008890|Birmingham|\n",
      "|E01008891|Birmingham|\n",
      "|E01008892|Birmingham|\n",
      "|E01008893|Birmingham|\n",
      "|E01008894|Birmingham|\n",
      "|E01008895|Birmingham|\n",
      "|E01008896|Birmingham|\n",
      "|E01008897|Birmingham|\n",
      "|E01008898|Birmingham|\n",
      "|E01008899|Birmingham|\n",
      "|E01008900|Birmingham|\n",
      "+---------+----------+\n",
      "only showing top 20 rows\n",
      "\n"
     ]
    }
   ],
   "source": [
    "depdfResults.show()"
   ]
  },
  {
   "cell_type": "markdown",
   "metadata": {},
   "source": [
    "<h1><center>Conclusion</center></h1>\n",
    "\n",
    "<p style=\"text-align:justify\">\n",
    "From the above data analysis, we can conclude that some of the claims made in the documentary were true, while others \n",
    "were not accurate.\n",
    "</p>"
   ]
  },
  {
   "cell_type": "markdown",
   "metadata": {},
   "source": [
    "<h1><center>References</center></h1>"
   ]
  },
  {
   "cell_type": "markdown",
   "metadata": {},
   "source": [
    "Firearms | The Crown Prosecution Service. [online] Available at: <https://www.cps.gov.uk/legal-guidance/firearms> [Accessed 14 January 2021].\n",
    "\n",
    "Violent crime | The Crown Prosecution Service. [online] Available at: https://www.cps.gov.uk/crime-info/violent-crime."
   ]
  },
  {
   "cell_type": "code",
   "execution_count": null,
   "metadata": {},
   "outputs": [],
   "source": []
  }
 ],
 "metadata": {
  "kernelspec": {
   "display_name": "Python 3",
   "language": "python",
   "name": "python3"
  },
  "language_info": {
   "codemirror_mode": {
    "name": "ipython",
    "version": 3
   },
   "file_extension": ".py",
   "mimetype": "text/x-python",
   "name": "python",
   "nbconvert_exporter": "python",
   "pygments_lexer": "ipython3",
   "version": "3.8.3"
  }
 },
 "nbformat": 4,
 "nbformat_minor": 4
}
